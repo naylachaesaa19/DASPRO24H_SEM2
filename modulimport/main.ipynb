{
 "cells": [
  {
   "cell_type": "code",
   "execution_count": null,
   "id": "8dce56a8-b673-4df9-bbec-07a4bcf7092d",
   "metadata": {},
   "outputs": [],
   "source": [
    "import aritmathic.math as m\n",
    "\n",
    "print(m.add(10,20,30))\n",
    "print(m.pow(2,3))\n",
    "print(m.multiply(1,2,3,4))"
   ]
  },
  {
   "cell_type": "code",
   "execution_count": null,
   "id": "2ae68569-1144-47ab-91d2-1fc3ab72ccab",
   "metadata": {},
   "outputs": [],
   "source": [
    "from convert.convert import cmToMeter as cm\n",
    "\n",
    "panjang = int(input(\"Isikan panjang (cm):\"))\n",
    "print(f\"Panjang dalam meter : {cm(panjang)}\")"
   ]
  },
  {
   "cell_type": "code",
   "execution_count": null,
   "id": "bb438895-778a-4deb-a20c-776384883b2b",
   "metadata": {},
   "outputs": [],
   "source": [
    "def menuUtama():\n",
    "    print(\"\"\"\n",
    "    1. Aritmatika\n",
    "    2. Convert\n",
    "    3. Exit\n",
    "    \"\"\")\n",
    "def menuAritmatika():\n",
    "    print(\"\"\"\n",
    "    1. Add\n",
    "    2. Pow\n",
    "    3. Multiply\n",
    "    \"\"\")\n",
    "while True:\n",
    "    menuUtama()\n",
    "    pilihMenu = int(input(\"Isikan Pilihan:\"))\n",
    "    if pilihMenu==1:\n",
    "        menuAritmatika()\n",
    "        pilihAritmatika = int(input(\"Isikan Pilihan Aritmatika:\"))\n",
    "    elif pilihMenu==2:\n",
    "        pass\n",
    "    elif pilihMenu==3:\n",
    "        print(\"Thank You!!\")\n",
    "        break"
   ]
  },
  {
   "cell_type": "code",
   "execution_count": null,
   "id": "846737a5-5c2e-45cc-9f78-ba1192a3ae91",
   "metadata": {},
   "outputs": [],
   "source": [
    "def menuUtama():\n",
    "    print(\"\"\"\n",
    "    1. Aritmatika\n",
    "    2. Convert\n",
    "    3. Exit\n",
    "    \"\"\")\n",
    "def menuAritmatika():\n",
    "    print(\"\"\"\n",
    "    1. Add\n",
    "    2. Pow\n",
    "    3. Multiply\n",
    "    \"\"\")\n",
    "def menuConvert():\n",
    "    print(\"\"\"\n",
    "    1. Cm To Meter\n",
    "    2. meter To Cm\n",
    "    \n",
    "while True:\n",
    "    menuUtama()\n",
    "    pilihMenu = int(input(\"Isikan Pilihan:\"))\n",
    "    if pilihMenu==1:\n",
    "        menuAritmatika()\n",
    "        pilihAritmatika = int(input(\"Isikan Pilihan Aritmatika:\"))\n",
    "    elif pilihMenu==2:\n",
    "        pass\n",
    "    elif pilihMenu==3:\n",
    "        print(\"Thank You!!\")\n",
    "        break"
   ]
  }
 ],
 "metadata": {
  "kernelspec": {
   "display_name": "Python [conda env:base] *",
   "language": "python",
   "name": "conda-base-py"
  },
  "language_info": {
   "codemirror_mode": {
    "name": "ipython",
    "version": 3
   },
   "file_extension": ".py",
   "mimetype": "text/x-python",
   "name": "python",
   "nbconvert_exporter": "python",
   "pygments_lexer": "ipython3",
   "version": "3.12.7"
  }
 },
 "nbformat": 4,
 "nbformat_minor": 5
}
