{
 "cells": [
  {
   "cell_type": "code",
   "execution_count": 15,
   "id": "5bcf6e0f-4196-4ff5-a35e-8aa5572552fc",
   "metadata": {},
   "outputs": [],
   "source": [
    "#Fungsi tanpa parameter\n",
    "import datetime as dt #Built in function\n",
    "def showDate():\n",
    "    today = dt.date.today()\n",
    "    print(f\"Sekarang tanggal : {today}\")\n",
    "\n",
    "def isWeekday():\n",
    "    week = dt.date.today().weekday()\n",
    "    if week >=5:\n",
    "        print(f\"Sekarang adalah weekand\")\n",
    "    else:\n",
    "        print(f\"Sekarang saatnya bekerja\")"
   ]
  },
  {
   "cell_type": "code",
   "execution_count": null,
   "id": "e9c3e3fa-e0b3-4662-ae96-1442ed82a983",
   "metadata": {},
   "outputs": [],
   "source": [
    "#Fungsi dengan parameter\n",
    "def getFullName(first,middle,last):\n",
    "    return (f\"Welcome, {first} {middle} {last}, S.Kom\")"
   ]
  },
  {
   "cell_type": "code",
   "execution_count": 9,
   "id": "768b9ad1-a953-4132-acf4-41a304c4bd0a",
   "metadata": {},
   "outputs": [
    {
     "name": "stdin",
     "output_type": "stream",
     "text": [
      "Isikan Bilangan 1: 10\n",
      "Isikan Bilangan 2: 5\n"
     ]
    },
    {
     "name": "stdout",
     "output_type": "stream",
     "text": [
      "Hasil penjumlahan 10 dan 5 = 15\n",
      "Hasil perkalian 10 dan 5 = 50\n",
      "Hasil penjumlahan 15 dan 50 = 65\n",
      "Hasil penjumlahan 10 dan 5 = 15\n",
      "Hasil perkalian 10 dan 5 = 50\n"
     ]
    }
   ],
   "source": [
    "#Fungsi dengan parameter dan return value untuk aritmatika\n",
    "def addNumber(num1,num2):\n",
    "    return num1 + num2\n",
    "\n",
    "def multiplyNumber(num1,num2):\n",
    "    return num1 * num2\n",
    "\n",
    "def addMulNumber(num1,num2):\n",
    "    add = num1 + num2\n",
    "    mul = num1 * num2\n",
    "    return add,mul\n",
    "    \n",
    "bil1 = int(input(\"Isikan Bilangan 1:\")) #10\n",
    "bil2 = int(input(\"Isikan Bilangan 2:\")) #5\n",
    "r1 = addNumber(bil1,bil2) #15\n",
    "r2 = multiplyNumber(bil1,bil2) #50\n",
    "r3 = addNumber(r1,r2) #65\n",
    "add,mul = addMulNumber(bil1,bil2) #15,50\n",
    "\n",
    "print(f\"Hasil penjumlahan {bil1} dan {bil2} = {r1}\")\n",
    "print(f\"Hasil perkalian {bil1} dan {bil2} = {r2}\")\n",
    "print(f\"Hasil penjumlahan {r1} dan {r2} = {r3}\")\n",
    "print(f\"Hasil penjumlahan {bil1} dan {bil2} = {add}\")\n",
    "print(f\"Hasil perkalian {bil1} dan {bil2} = {mul}\")"
   ]
  },
  {
   "cell_type": "code",
   "execution_count": 47,
   "id": "ef407f78-bc31-4a81-93c6-351a4498600d",
   "metadata": {},
   "outputs": [
    {
     "ename": "TypeError",
     "evalue": "'getset_descriptor' object is not callable",
     "output_type": "error",
     "traceback": [
      "\u001b[1;31m---------------------------------------------------------------------------\u001b[0m",
      "\u001b[1;31mTypeError\u001b[0m                                 Traceback (most recent call last)",
      "Cell \u001b[1;32mIn[47], line 16\u001b[0m\n\u001b[0;32m     13\u001b[0m     \u001b[38;5;28mprint\u001b[39m(\u001b[38;5;124mf\u001b[39m\u001b[38;5;124m\"\u001b[39m\u001b[38;5;124mStatus :\u001b[39m\u001b[38;5;132;01m{\u001b[39;00mstatus\u001b[38;5;132;01m}\u001b[39;00m\u001b[38;5;124m\"\u001b[39m)\n\u001b[0;32m     14\u001b[0m     \u001b[38;5;28mprint\u001b[39m(\u001b[38;5;124mf\u001b[39m\u001b[38;5;124m\"\u001b[39m\u001b[38;5;124mHak akses :\u001b[39m\u001b[38;5;132;01m{\u001b[39;00mrole\u001b[38;5;132;01m}\u001b[39;00m\u001b[38;5;124m\"\u001b[39m)\n\u001b[1;32m---> 16\u001b[0m showDate()\n\u001b[0;32m     17\u001b[0m isWeekday()\n\u001b[0;32m     18\u001b[0m \u001b[38;5;28mprint\u001b[39m(getFulName(\u001b[38;5;124m\"\u001b[39m\u001b[38;5;124mAndi\u001b[39m\u001b[38;5;124m\"\u001b[39m,\u001b[38;5;124m\"\u001b[39m\u001b[38;5;124m\"\u001b[39m,\u001b[38;5;124m\"\u001b[39m\u001b[38;5;124mRaharja\u001b[39m\u001b[38;5;124m\"\u001b[39m))\n",
      "Cell \u001b[1;32mIn[15], line 4\u001b[0m, in \u001b[0;36mshowDate\u001b[1;34m()\u001b[0m\n\u001b[0;32m      3\u001b[0m \u001b[38;5;28;01mdef\u001b[39;00m \u001b[38;5;21mshowDate\u001b[39m():\n\u001b[1;32m----> 4\u001b[0m     today \u001b[38;5;241m=\u001b[39m datetime\u001b[38;5;241m.\u001b[39mdate\u001b[38;5;241m.\u001b[39mday()\n\u001b[0;32m      5\u001b[0m     \u001b[38;5;28mprint\u001b[39m(\u001b[38;5;124mf\u001b[39m\u001b[38;5;124m\"\u001b[39m\u001b[38;5;124mSekarang tanggal : \u001b[39m\u001b[38;5;132;01m{\u001b[39;00mtoday\u001b[38;5;132;01m}\u001b[39;00m\u001b[38;5;124m\"\u001b[39m)\n",
      "\u001b[1;31mTypeError\u001b[0m: 'getset_descriptor' object is not callable"
     ]
    }
   ],
   "source": [
    "#Fungai dengan nilai default\n",
    "def daftarRekening(no_ktp, nama, saldo=100000):\n",
    "    ket = f\"Akun berhasil dibuat:\\n\"\n",
    "    ket += f\"No KTP:{no_ktp}\\n\"\n",
    "    ket += f\"Nama:{nama}\\n\"\n",
    "    ket += f\"Saldo awal:{saldo}\"\n",
    "    return ket \n",
    "\n",
    "def userRegistration(username, password, nama, status=False, role=\"user\"):\n",
    "    print(f\"Proses Registrasi Berhasil!!\")\n",
    "    print(f\"Username :{username}\")\n",
    "    print(f\"Nama{nama}\")\n",
    "    print(f\"Status :{status}\")\n",
    "    print(f\"Hak akses :{role}\")\n",
    "\n",
    "showDate()\n",
    "isWeekday()\n",
    "print(getFullName(\"Andi\",\"\",\"Raharja\"))\n",
    "print(daftarRekening(\"4842685628310585247\",\"Rudi\"))\n",
    "userRegistration(\"Adi\",\"12334567\",\"Adi\")\n",
    "userRegistration(\"Adi\",\"12334567\",\"Adi\",True,\"admin\")\n",
    "userRegistration(\"Adi\",\"12334567\",\"Adi\",role = \"admin\")"
   ]
  },
  {
   "cell_type": "code",
   "execution_count": 59,
   "id": "9197e7fb-8331-4543-9706-87e2393eb297",
   "metadata": {},
   "outputs": [
    {
     "name": "stdout",
     "output_type": "stream",
     "text": [
      "Args : ('Jan', 'Feb', 'Mar')\n",
      "KWargs: {'nama': 'Budi', 'umur': 21, 'alamat': 'Bandung'}\n",
      "Jan\n",
      "Feb\n",
      "Mar\n",
      "Budi\n",
      "21\n",
      "Bandung\n",
      "Total jumlah : 6\n",
      "Total jumlah : 15\n"
     ]
    }
   ],
   "source": [
    "#Function argumen dan keyword argumen -> * dan **\n",
    "def printData(*args, **kwargs):\n",
    "    print(\"Args :\", args)\n",
    "    print(\"KWargs:\", kwargs)\n",
    "    return args,kwargs\n",
    "\n",
    "args,kwargs = printData(\"Jan\",\"Feb\",\"Mar\",nama=\"Budi\",umur=21,alamat=\"Bandung\")\n",
    "\n",
    "for i in args:\n",
    "    print(i)\n",
    "    \n",
    "for item in kwargs.items():\n",
    "    print(item[1])\n",
    "\n",
    "#Buatlah fungsi untuk penjumlahan dengan jumlah parameter bebas\n",
    "def addNumbers(*numbers):\n",
    "    total = 0\n",
    "    for i in numbers:\n",
    "        total += int(i)\n",
    "    return total\n",
    "\n",
    "print(f\"Total jumlah : {addNumbers(1,2,3)}\")\n",
    "print(f\"Total jumlah : {addNumbers(1,2,3,4,5)}\")"
   ]
  }
 ],
 "metadata": {
  "kernelspec": {
   "display_name": "Python [conda env:base] *",
   "language": "python",
   "name": "conda-base-py"
  },
  "language_info": {
   "codemirror_mode": {
    "name": "ipython",
    "version": 3
   },
   "file_extension": ".py",
   "mimetype": "text/x-python",
   "name": "python",
   "nbconvert_exporter": "python",
   "pygments_lexer": "ipython3",
   "version": "3.12.7"
  }
 },
 "nbformat": 4,
 "nbformat_minor": 5
}
