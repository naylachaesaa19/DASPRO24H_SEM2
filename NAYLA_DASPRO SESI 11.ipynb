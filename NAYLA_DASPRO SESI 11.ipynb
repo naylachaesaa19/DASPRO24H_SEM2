{
 "cells": [
  {
   "cell_type": "code",
   "execution_count": 4,
   "id": "8e301133-7e04-42ff-a48c-4e95965c6ca7",
   "metadata": {},
   "outputs": [
    {
     "name": "stdout",
     "output_type": "stream",
     "text": [
      "UKA ATNIC UMAK\n",
      "PYTHON HARI BELAJAR SEDANG INI\n",
      "Ak|_| C1nt4 K4m|_|\n",
      "4ku Cinta Kamu\n"
     ]
    }
   ],
   "source": [
    "def reverse_per_kata(kalimat):\n",
    "    \"\"\"\n",
    "    FUNGSI 1: Membalik setiap kata dalam kalimat tanpa mengubah urutan kata.\n",
    "    Contoh:\n",
    "    Input: \"AKU CINTA KAMU\"\n",
    "    Output: \"UKA ATNIC UMAK\"\n",
    "    \"\"\"\n",
    "    kata_list = kalimat.split()  \n",
    "    hasil = []\n",
    "    for kata in kata_list:\n",
    "        hasil.append(kata[::-1]) \n",
    "    return ' '.join(hasil)  \n",
    "\n",
    "\n",
    "def urutkan_kalimat(kalimat, urutan):\n",
    "    \"\"\"\n",
    "    FUNGSI 2: Mengurutkan kata-kata dalam kalimat sesuai indeks pada list urutan.\n",
    "    Catatan: indeks dalam list dimulai dari 1.\n",
    "    Contoh:\n",
    "    kalimat = \"HARI INI SEDANG BELAJAR PYTHON\"\n",
    "    urutan = [5, 1, 4, 3, 2]\n",
    "    Output: \"PYTHON HARI BELAJAR SEDANG INI\"\n",
    "    \"\"\"\n",
    "    kata_list = kalimat.split()\n",
    "    hasil = []\n",
    "    for i in urutan:\n",
    "        if 1 <= i <= len(kata_list):\n",
    "            hasil.append(kata_list[i - 1])  # Ambil kata berdasarkan indeks\n",
    "        else:\n",
    "            hasil.append('')  # Jika indeks di luar batas\n",
    "    return ' '.join(hasil)\n",
    "\n",
    "def ganti_vokal(kalimat, opsi):\n",
    "    \"\"\"\n",
    "    FUNGSI 3: Mengganti huruf vokal dalam kalimat dengan simbol tertentu.\n",
    "    - opsi = 1 → hanya ubah vokal kecil (a, i, u, e, o)\n",
    "    - opsi = 2 → hanya ubah vokal kapital (A, I, U, E, O)\n",
    "    Penggantian: a/A→4, i/I→1, u/U→|_|, e/E→3, o/O→0\n",
    "    Contoh:\n",
    "    ganti_vokal(\"Aku Cinta Kamu\", 1) → \"Ak|_| C1nt4 K4m|_|\"\n",
    "    ganti_vokal(\"Aku Cinta Kamu\", 2) → \"4ku Cinta Kamu\"\n",
    "    \"\"\"\n",
    "    hasil = ''\n",
    "    vokal_kecil = {'a': '4', 'i': '1', 'u': '|_|', 'e': '3', 'o': '0'}\n",
    "    vokal_besar = {'A': '4', 'I': '1', 'U': '|_|', 'E': '3', 'O': '0'}\n",
    "    \n",
    "    for huruf in kalimat:\n",
    "        if opsi == 1 and huruf in vokal_kecil:\n",
    "            hasil += vokal_kecil[huruf]\n",
    "        elif opsi == 2 and huruf in vokal_besar:\n",
    "            hasil += vokal_besar[huruf]\n",
    "        else:\n",
    "            hasil += huruf\n",
    "    return hasil\n",
    "\n",
    "print(reverse_per_kata(\"AKU CINTA KAMU\"))\n",
    "print(urutkan_kalimat(\"HARI INI SEDANG BELAJAR PYTHON\", [5, 1, 4, 3, 2]))\n",
    "print(ganti_vokal(\"Aku Cinta Kamu\", 1))\n",
    "print(ganti_vokal(\"Aku Cinta Kamu\", 2))"
   ]
  }
 ],
 "metadata": {
  "kernelspec": {
   "display_name": "Python [conda env:base] *",
   "language": "python",
   "name": "conda-base-py"
  },
  "language_info": {
   "codemirror_mode": {
    "name": "ipython",
    "version": 3
   },
   "file_extension": ".py",
   "mimetype": "text/x-python",
   "name": "python",
   "nbconvert_exporter": "python",
   "pygments_lexer": "ipython3",
   "version": "3.12.7"
  }
 },
 "nbformat": 4,
 "nbformat_minor": 5
}
