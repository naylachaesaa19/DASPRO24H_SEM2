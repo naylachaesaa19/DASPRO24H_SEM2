{
 "cells": [
  {
   "cell_type": "code",
   "execution_count": 18,
   "id": "32fcfaf6-8992-4814-93c4-3e1d95a5b5dc",
   "metadata": {},
   "outputs": [
    {
     "name": "stdout",
     "output_type": "stream",
     "text": [
      "\n",
      "    MENU UTAMA\n",
      "1. Aritmatika\n",
      "2. Konversi\n",
      "3. Ubah Bilangan\n",
      "4. Exit\n",
      "\n"
     ]
    },
    {
     "name": "stdin",
     "output_type": "stream",
     "text": [
      "Pilih menu (1-4):  1\n"
     ]
    },
    {
     "name": "stdout",
     "output_type": "stream",
     "text": [
      "\n",
      "    ARITMATIKA \n",
      "1. Penjumlahan\n",
      "2. Perpangkatan\n",
      "3. Perkalian\n",
      "\n"
     ]
    },
    {
     "name": "stdin",
     "output_type": "stream",
     "text": [
      "Pilih operasi (1-3):  1\n",
      "Masukkan bilangan pertama:  2\n",
      "Masukkan bilangan kedua:  3\n"
     ]
    },
    {
     "name": "stdout",
     "output_type": "stream",
     "text": [
      "Hasil penjumlahan: 5.0\n",
      "\n",
      "    MENU UTAMA\n",
      "1. Aritmatika\n",
      "2. Konversi\n",
      "3. Ubah Bilangan\n",
      "4. Exit\n",
      "\n"
     ]
    },
    {
     "name": "stdin",
     "output_type": "stream",
     "text": [
      "Pilih menu (1-4):  4\n"
     ]
    },
    {
     "name": "stdout",
     "output_type": "stream",
     "text": [
      "Terima kasih telah menggunakan program ini!\n"
     ]
    }
   ],
   "source": [
    "def menuUtama():\n",
    "    print(\"\"\"\n",
    "    MENU UTAMA\n",
    "1. Aritmatika\n",
    "2. Konversi\n",
    "3. Ubah Bilangan\n",
    "4. Exit\n",
    "\"\"\")\n",
    "\n",
    "def menuAritmatika():\n",
    "    print(\"\"\"\n",
    "    ARITMATIKA \n",
    "1. Penjumlahan\n",
    "2. Perpangkatan\n",
    "3. Perkalian\n",
    "\"\"\")\n",
    "\n",
    "def menuKonversi():\n",
    "    print(\"\"\"\n",
    "    KONVERSI\n",
    "1. CM ke M\n",
    "2. M ke CM\n",
    "\"\"\")\n",
    "\n",
    "def menuUbahBilangan():\n",
    "    print(\"\"\"\n",
    "    UBAH BILANGAN\n",
    "1. Desimal ke Biner\n",
    "2. Desimal ke Oktal\n",
    "3. Desimal ke Hexadesimal\n",
    "\"\"\")\n",
    "\n",
    "while True:\n",
    "    menuUtama()\n",
    "    pilihMenu = int(input(\"Pilih menu (1-4): \"))\n",
    "\n",
    "    if pilihMenu == 1:\n",
    "        menuAritmatika()\n",
    "        pilihArit = int(input(\"Pilih operasi (1-3): \"))\n",
    "        a = float(input(\"Masukkan bilangan pertama: \"))\n",
    "        b = float(input(\"Masukkan bilangan kedua: \"))\n",
    "\n",
    "        if pilihArit == 1:\n",
    "            print(f\"Hasil penjumlahan: {a + b}\")\n",
    "        elif pilihArit == 2:\n",
    "            print(f\"Hasil perpangkatan: {a ** b}\")\n",
    "        elif pilihArit == 3:\n",
    "            print(f\"Hasil perkalian: {a * b}\")\n",
    "        else:\n",
    "            print(\"Pilihan tidak valid di menu Aritmatika.\")\n",
    "\n",
    "    elif pilihMenu == 2:\n",
    "        menuKonversi()\n",
    "        pilihKonv = int(input(\"Pilih konversi (1-2): \"))\n",
    "        nilai = float(input(\"Masukkan nilai: \"))\n",
    "\n",
    "        if pilihKonv == 1:\n",
    "            print(f\"{nilai} cm = {nilai / 100} m\")\n",
    "        elif pilihKonv == 2:\n",
    "            print(f\"{nilai} m = {nilai * 100} cm\")\n",
    "        else:\n",
    "            print(\"Pilihan tidak valid di menu Konversi.\")\n",
    "\n",
    "    elif pilihMenu == 3:\n",
    "        menuUbahBilangan()\n",
    "        pilihUbah = int(input(\"Pilih konversi (1-3): \"))\n",
    "        angka = int(input(\"Masukkan bilangan desimal: \"))\n",
    "\n",
    "        if pilihUbah == 1:\n",
    "            print(f\"{angka} dalam biner: {bin(angka)}\")\n",
    "        elif pilihUbah == 2:\n",
    "            print(f\"{angka} dalam oktal: {oct(angka)}\")\n",
    "        elif pilihUbah == 3:\n",
    "            print(f\"{angka} dalam hexadesimal: {hex(angka)}\")\n",
    "        else:\n",
    "            print(\"Pilihan tidak valid di menu Ubah Bilangan.\")\n",
    "\n",
    "    elif pilihMenu == 4:\n",
    "        print(\"Terima kasih telah menggunakan program ini!\")\n",
    "        break\n",
    "\n",
    "    else:\n",
    "        print(\"Menu tidak ditemukan. Coba lagi.\")\n"
   ]
  }
 ],
 "metadata": {
  "kernelspec": {
   "display_name": "Python [conda env:base] *",
   "language": "python",
   "name": "conda-base-py"
  },
  "language_info": {
   "codemirror_mode": {
    "name": "ipython",
    "version": 3
   },
   "file_extension": ".py",
   "mimetype": "text/x-python",
   "name": "python",
   "nbconvert_exporter": "python",
   "pygments_lexer": "ipython3",
   "version": "3.12.7"
  }
 },
 "nbformat": 4,
 "nbformat_minor": 5
}
